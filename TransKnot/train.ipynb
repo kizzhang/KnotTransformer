{
 "cells": [
  {
   "cell_type": "markdown",
   "metadata": {},
   "source": [
    "# 1. Data tool"
   ]
  },
  {
   "cell_type": "code",
   "execution_count": null,
   "metadata": {},
   "outputs": [],
   "source": [
    "\n",
    "import torch\n",
    "import torch.nn as nn\n",
    "import torch.nn.functional as F\n",
    "import numpy as np\n",
    "import math\n",
    "import copy\n",
    "from torch.autograd import Variable\n",
    "from torch.nn import TransformerEncoder, TransformerEncoderLayer\n",
    "import torch.optim as optim\n",
    "from torch.utils.data import DataLoader, TensorDataset\n",
    "import os\n",
    "import random\n",
    "import time\n",
    "import argparse\n",
    "from tqdm import tqdm\n",
    "import matplotlib.pyplot as plt\n",
    "\n",
    "from torch.utils.data import Dataset, DataLoader\n",
    "from torch.nn.utils import clip_grad_norm_\n",
    "from torch.utils.data import random_split\n",
    "from torch.nn.init import kaiming_uniform_\n",
    "from torch.nn.utils.rnn import pad_sequence\n",
    "\n",
    "\n",
    "class MyDatasetOptimized(Dataset):\n",
    "    def __init__(self, data_dir, num_tail=0, transform=None,number_of_files=0,max_length=1100, dropout =0.5, model_type=\"train\",label_set=None):\n",
    "        #self.data_files = [file for file in os.listdir(data_dir) if file.startswith('traj') and file.endswith('.npy')]\n",
    "        # filename rule: traj_knot{knottype}_L{length}_close.npy\n",
    "        # only load the data with length <= max_length\n",
    "        self.data_files = [file for file in os.listdir(data_dir) if file.startswith('traj') and file.endswith('.npy') and int(file.split('_')[2][1:])<=max_length]\n",
    "        self.num_files = len(self.data_files)\n",
    "        self.labels = [file.split('_')[1][4:] for file in self.data_files]\n",
    "        self.num_labels = len(set(self.labels))\n",
    "\n",
    "        self.data = []\n",
    "        self.transform = transform\n",
    "        self.num_tail = num_tail\n",
    "\n",
    "        for count, data_file in enumerate(self.data_files):\n",
    "            print(f\"File # {count}: {data_file}\")\n",
    "            if(number_of_files!=0 and count>=number_of_files):\n",
    "                break\n",
    "            data_path = os.path.join(data_dir, data_file)\n",
    "            data = np.load(data_path, allow_pickle=True)\n",
    "            # drop part\n",
    "            if dropout > 0:\n",
    "                if model_type == \"train\":\n",
    "                    # 如果文件名不包括random\n",
    "                    if \"random\" not in data_file:\n",
    "                        data = data[:int(len(data)*dropout)]\n",
    "                else:\n",
    "                    data = data[int(len(data)*dropout):]\n",
    "            \n",
    "            #print(\"first point\",data[0,0,:])\n",
    "            print(\"data shape\",data.shape)\n",
    "\n",
    "            # label corresponding to the file name\n",
    "            label = data_file.split('_')[1][4:]\n",
    "            if label_set is None:\n",
    "                label_int = list(set(self.labels)).index(label)\n",
    "            else:\n",
    "                label_int = label_set.index(label)\n",
    "            print(\"label\",label_int)\n",
    "            for item in data:\n",
    "                item = self.preprocess_item(item)\n",
    "                self.data.append((label_int, item))\n",
    "\n",
    "\n",
    "    def preprocess_item(self, item):\n",
    "        # recenter\n",
    "        item = item - item.mean(axis=0)\n",
    "        # stack bond vectors\n",
    "        bond = np.concatenate((item[1:] - item[:-1], item[0:1] - item[-1:]), axis=0)\n",
    "        item = np.concatenate((item, bond), axis=1)\n",
    "\n",
    "        return item\n",
    "    \n",
    "    def preprocess_item_simple(self, item):\n",
    "        # recenter \n",
    "        item = item - item.mean(axis=0)\n",
    "        return item\n",
    "\n",
    "    def __getitem__(self, index):\n",
    "        label, item = self.data[index]\n",
    "        if self.transform:\n",
    "            item = self.transform(item)\n",
    "        return torch.tensor(item, dtype=torch.float32), torch.tensor(label, dtype=torch.int64)\n",
    "\n",
    "    def __len__(self):\n",
    "        return len(self.data)\n",
    "\n",
    "# Transform function example\n",
    "def transform_function(item):\n",
    "    # Apply any transformation like normalization, etc.\n",
    "    return item\n",
    "\n",
    "# Create DataLoader\n",
    "def collate_batch(batch):\n",
    "    src_batch, label_batch = [], []\n",
    "    for (src_item, label) in batch:\n",
    "        src_batch.append(src_item.detach().clone())\n",
    "        label_batch.append(label)\n",
    "    src_batch = pad_sequence(src_batch, batch_first=True, padding_value=0.0)  # 填充操作\n",
    "    label_batch = torch.tensor(label_batch, dtype=torch.int64)\n",
    "    return src_batch, label_batch\n",
    "\n",
    "# Calculate accuracy\n",
    "def accuracy(data_loader, model, device):\n",
    "    model.eval()\n",
    "    correct = 0\n",
    "    total = 0\n",
    "    with torch.no_grad():\n",
    "        for data in data_loader:\n",
    "            inputs, labels = data\n",
    "            inputs = inputs.to(device)\n",
    "            labels = labels.to(device)\n",
    "            outputs = model(inputs)\n",
    "            _, predicted = torch.max(outputs, 1)\n",
    "            total += labels.size(0)\n",
    "            correct += (predicted == labels).sum().item()\n",
    "    return correct / total\n",
    "\n",
    "# Usage\n",
    "dataset_optimized = MyDatasetOptimized('./', num_tail=0, transform=transform_function)\n",
    "input_dim = dataset_optimized[0][0].shape\n",
    "print(input_dim)\n",
    "print(dataset_optimized.data_files)\n",
    "\n",
    "\n",
    "# Calculate the distribution of labels in dataset\n",
    "label_count = [0 for _ in range(7)]\n",
    "for _, label in dataset_optimized:\n",
    "    label_count[label] += 1\n",
    "print(label_count)\n",
    "\n",
    "\n",
    "# Note: You might need to adjust the transform_function according to your actual data preprocessing needs."
   ]
  },
  {
   "cell_type": "code",
   "execution_count": null,
   "metadata": {},
   "outputs": [],
   "source": [
    "from torch.utils.data import DataLoader, random_split\n",
    "\n",
    "# define the dataset \n",
    "dataset = MyDatasetOptimized(data_dir='path/to/your/directory',max_length=1100,dropout=0.5,label_set=label)\n",
    "\n",
    "# split the dataset to training and testing dataset\n",
    "train_ratio = 0.85\n",
    "train_size = int(len(dataset) * train_ratio)\n",
    "test_size = len(dataset) - train_size\n",
    "\n",
    "# use random_split to randomly split dataset\n",
    "train_dataset, test_dataset = random_split(dataset, [train_size, test_size])\n",
    "\n",
    "# create DataLoader\n",
    "def collate_batch(batch):\n",
    "    src_batch, label_batch = [], []\n",
    "    for (src_item, label) in batch:\n",
    "        src_batch.append(src_item.detach().clone())\n",
    "        label_batch.append(label)\n",
    "    src_batch = pad_sequence(src_batch, batch_first=True, padding_value=0.0)  # 填充操作\n",
    "    label_batch = torch.tensor(label_batch, dtype=torch.int64)\n",
    "    return src_batch, label_batch\n",
    "batch_size = 128\n",
    "train_loader = DataLoader(train_dataset, batch_size, shuffle=True, num_workers=4, collate_fn=collate_batch)\n",
    "test_loader = DataLoader(test_dataset, batch_size, shuffle=True, num_workers=4, collate_fn=collate_batch)\n",
    "\n",
    "# output shape\n",
    "print(\"input shape:\", train_dataset[0][0].shape)\n",
    "print(\"input sample:\", train_dataset[0][0][:5])\n",
    "\n",
    "# calculate the distribution of labels in training dataset\n",
    "label_count = [0 for _ in range(dataset.num_labels)]\n",
    "for _, label in train_dataset:\n",
    "    label_count[label] += 1\n",
    "print(label_count)"
   ]
  },
  {
   "cell_type": "markdown",
   "metadata": {},
   "source": [
    "## 1.1 Data Sanity Check"
   ]
  },
  {
   "cell_type": "code",
   "execution_count": null,
   "metadata": {},
   "outputs": [],
   "source": [
    "print(\"train size:\", len(train_dataset))\n",
    "print(\"test size:\", len(test_dataset))\n",
    "print(\"lable size:\", dataset.num_labels)\n",
    "print(\"input shape:\", train_dataset[0][0].shape)\n",
    "print(\"input sample:\", train_dataset[0][0][:5])"
   ]
  },
  {
   "cell_type": "code",
   "execution_count": null,
   "metadata": {},
   "outputs": [],
   "source": [
    "# check label and src shape\n",
    "for src, label in train_loader:\n",
    "    print(\"src shape:\", src.shape)\n",
    "    print(\"label shape:\", label.shape)\n",
    "    break"
   ]
  },
  {
   "cell_type": "code",
   "execution_count": 5,
   "metadata": {},
   "outputs": [
    {
     "data": {
      "image/png": "[encoded data removed]",
      "text/plain": [
       "<Figure size 432x288 with 1 Axes>"
      ]
     },
     "metadata": {
      "needs_background": "light"
     },
     "output_type": "display_data"
    },
    {
     "data": {
      "image/png": "[encoded data removed]",
      "text/plain": [
       "<Figure size 432x288 with 1 Axes>"
      ]
     },
     "metadata": {
      "needs_background": "light"
     },
     "output_type": "display_data"
    },
    {
     "data": {
      "text/plain": [
       "tensor([-1.2207e-04, -3.0518e-05,  8.0109e-05, -3.8147e-06, -9.5367e-07,\n",
       "        -4.7684e-07])"
      ]
     },
     "execution_count": 5,
     "metadata": {},
     "output_type": "execute_result"
    }
   ],
   "source": [
    "# plot the first input data\n",
    "fig, ax = plt.subplots()\n",
    "ax.plot(dataset[0][0][:, 0])\n",
    "ax.plot(dataset[0][0][:, 1])\n",
    "ax.plot(dataset[0][0][:, 2])\n",
    "plt.show()\n",
    "\n",
    "# 3d scatter plot\n",
    "fig = plt.figure()\n",
    "ax = fig.add_subplot(111, projection='3d')\n",
    "ax.scatter(dataset[0][0][:, 0], dataset[0][0][:, 1], dataset[0][0][:, 2])\n",
    "plt.show()\n",
    "\n",
    "torch.sum(dataset[0][0],dim=0)"
   ]
  },
  {
   "cell_type": "code",
   "execution_count": null,
   "metadata": {},
   "outputs": [],
   "source": [
    "# check data length and bond length\n",
    "for data, label in train_loader:\n",
    "    # print(data.size(), label.size())\n",
    "    # print(label[0:10])\n",
    "    # print(data[0][0:10])\n",
    "\n",
    "    # calculate the bond length\n",
    "    key_length = torch.sqrt(torch.sum(data**2, dim=2))\n",
    "    # output the max and min bond length\n",
    "    print('max key length:', torch.max(key_length))\n",
    "    print('min key length:', torch.min(key_length))\n"
   ]
  },
  {
   "cell_type": "markdown",
   "metadata": {},
   "source": [
    "# 2. Define Model"
   ]
  },
  {
   "cell_type": "code",
   "execution_count": null,
   "metadata": {},
   "outputs": [],
   "source": [
    "class PositionalEncoding(nn.Module):\n",
    "    def __init__(self, d_model, max_len=5000):\n",
    "        super(PositionalEncoding, self).__init__()\n",
    "        pe = torch.zeros(max_len, d_model)\n",
    "        position = torch.arange(0, max_len, dtype=torch.float).unsqueeze(1)\n",
    "        div_term = torch.exp(torch.arange(0, d_model, 2).float() * (-math.log(10000.0) / d_model))\n",
    "        pe[:, 0::2] = torch.sin(position * div_term)\n",
    "        pe[:, 1::2] = torch.cos(position * div_term)\n",
    "        pe = pe.unsqueeze(0)\n",
    "        self.register_buffer('pe', pe)\n",
    "\n",
    "    def forward(self, x):\n",
    "        x = x + self.pe[:,:x.size(1)]\n",
    "        return x\n",
    "    \n",
    "class TransformerSequenceClassifier(nn.Module):\n",
    "    def __init__(self, input_dim=3, d_model=512, nhead=8, num_encoder_layers=3, dim_feedforward=1024, num_classes=10, max_seq_len=500, dropout=0.2):\n",
    "        super(TransformerSequenceClassifier, self).__init__()\n",
    "\n",
    "        # vectorize input features, share weights\n",
    "        self.feature_embedding = nn.Linear(input_dim, d_model)\n",
    "        # add positional encoding\n",
    "        self.position_encoder = PositionalEncoding(d_model, max_seq_len)\n",
    "\n",
    "        self.layer_norm = nn.LayerNorm(d_model)\n",
    "        # add CLS token\n",
    "        self.cls_token = nn.Parameter(torch.randn(1, 1, d_model))\n",
    "        # transformer encoder layers\n",
    "        encoder_layer = nn.TransformerEncoderLayer(d_model=d_model, nhead=nhead, dim_feedforward=dim_feedforward, dropout=dropout,batch_first=True)\n",
    "        self.transformer_encoder = nn.TransformerEncoder(encoder_layer, num_layers=num_encoder_layers)\n",
    "        # classifier\n",
    "        self.classifier = nn.Linear(d_model, num_classes)\n",
    "\n",
    "        self.dropout = nn.Dropout(dropout)\n",
    "    \n",
    "    def forward(self, src):\n",
    "        # add src mask\n",
    "        src_mask = (src!=0).all(dim=2)\n",
    "\n",
    "        # Embed input features to d_model dimensions \n",
    "        src = self.feature_embedding(src)\n",
    "        # Add positional encoding\n",
    "        src = self.position_encoder(src)\n",
    "\n",
    "        src = self.layer_norm(src)\n",
    "        \n",
    "        # Add CLS token\n",
    "        cls_tokens = self.cls_token.expand(src.size(0), -1, -1)\n",
    "        src = torch.cat((cls_tokens, src), dim=1)\n",
    "\n",
    "        # expand mask\n",
    "        src_mask = torch.cat([torch.ones(src.size(0), 1).bool().to(src.device), src_mask], dim=1)\n",
    "\n",
    "        # Pass through the transformer encoder\n",
    "        src = self.transformer_encoder(src, src_key_padding_mask=~src_mask)\n",
    "\n",
    "        src = self.dropout(src)\n",
    "\n",
    "        # get the output of the CLS token\n",
    "        output = src[:, 0]\n",
    "\n",
    "        # Classify\n",
    "        output = self.classifier(output)\n",
    "        return output\n"
   ]
  },
  {
   "cell_type": "markdown",
   "metadata": {},
   "source": [
    "## 2.1 Model sanity check"
   ]
  },
  {
   "cell_type": "code",
   "execution_count": null,
   "metadata": {},
   "outputs": [],
   "source": [
    "# Model Test\n",
    "batch_size = 32\n",
    "seq_len = 100  # N，sequence length\n",
    "input_dim = 3  # input dimension\n",
    "d_model = 512  # attention hidden size\n",
    "nhead = 8  # attention head number\n",
    "num_encoder_layers = 3  # number of encoder layers\n",
    "num_classes = 10  # number of classes\n",
    "\n",
    "# create model\n",
    "model = TransformerSequenceClassifier(input_dim, d_model, nhead, num_encoder_layers, num_classes)\n",
    "\n",
    "# create hypothetical input\n",
    "x = torch.randn(batch_size, seq_len, input_dim)\n",
    "\n",
    "# forward pass\n",
    "logits = model(x)\n",
    "predictions = F.log_softmax(logits, dim=-1)\n",
    "\n",
    "print(predictions.shape)  # should output: torch.Size([32, 10])\n",
    "print(predictions)"
   ]
  },
  {
   "cell_type": "markdown",
   "metadata": {},
   "source": [
    "## 2.2 Create model for knot classification problem"
   ]
  },
  {
   "cell_type": "code",
   "execution_count": null,
   "metadata": {},
   "outputs": [],
   "source": [
    "# Create the model\n",
    "model = TransformerSequenceClassifier(input_dim=3,d_model=128,nhead=8, num_classes=7,dim_feedforward=256)\n",
    "print('Model Parameters:', sum(p.numel() for p in model.parameters() if p.requires_grad))\n",
    "\n",
    "# output shape and input shape\n",
    "for data, label in train_loader:\n",
    "    inputs = data\n",
    "    print('Input:', inputs.size())\n",
    "    output = model(inputs)\n",
    "    print('Output:', output.size())\n",
    "    break\n",
    "    \n",
    "# check model parameters mean and std\n",
    "for name, param in model.named_parameters():\n",
    "    if param.requires_grad:\n",
    "        print(name, param.data.mean(), param.data.std())\n",
    "\n",
    "        \n",
    "# check accuracy\n",
    "# device = torch.device('cuda' if torch.cuda.is_available() else 'cpu')\n",
    "# model = model.to(device)\n",
    "# print('Train Accuracy:', accuracy(train_loader, model, device))"
   ]
  },
  {
   "cell_type": "markdown",
   "metadata": {},
   "source": [
    "## 2.3 Roll out"
   ]
  },
  {
   "cell_type": "code",
   "execution_count": 4,
   "metadata": {},
   "outputs": [
    {
     "name": "stdout",
     "output_type": "stream",
     "text": [
      "Loading model from checkpoint...\n"
     ]
    },
    {
     "name": "stderr",
     "output_type": "stream",
     "text": [
      "EPOCH 1: Loss = 0.0127 at train step = 13281: 100%|\u001b[31m█\u001b[0m| 13282/13282 [2:07:35<00:00\u001b[0m"
     ]
    },
    {
     "name": "stdout",
     "output_type": "stream",
     "text": [
      "Epoch [1/10], Loss: 0.0920\n"
     ]
    },
    {
     "name": "stderr",
     "output_type": "stream",
     "text": [
      "\n",
      "/home/yongjian/miniconda3/envs/pytorch/lib/python3.11/site-packages/torch/nn/modules/transformer.py:408: UserWarning: The PyTorch API of nested tensors is in prototype stage and will change in the near future. (Triggered internally at /opt/conda/conda-bld/pytorch_1712608853085/work/aten/src/ATen/NestedTensorImpl.cpp:178.)\n",
      "  output = torch._nested_tensor_from_mask(output, src_key_padding_mask.logical_not(), mask_check=False)\n"
     ]
    },
    {
     "name": "stdout",
     "output_type": "stream",
     "text": [
      "Training Accuracy: 0.9786\n"
     ]
    },
    {
     "name": "stderr",
     "output_type": "stream",
     "text": []
    },
    {
     "name": "stdout",
     "output_type": "stream",
     "text": [
      "Test Accuracy: 0.9760\n"
     ]
    },
    {
     "name": "stderr",
     "output_type": "stream",
     "text": [
      "EPOCH 2: Loss = 0.1345 at train step = 13281: 100%|\u001b[31m█\u001b[0m| 13282/13282 [2:07:39<00:00\u001b[0m"
     ]
    },
    {
     "name": "stdout",
     "output_type": "stream",
     "text": [
      "Epoch [2/10], Loss: 0.0822\n"
     ]
    },
    {
     "name": "stderr",
     "output_type": "stream",
     "text": [
      "\n"
     ]
    },
    {
     "name": "stdout",
     "output_type": "stream",
     "text": [
      "Training Accuracy: 0.9825\n"
     ]
    },
    {
     "name": "stderr",
     "output_type": "stream",
     "text": []
    },
    {
     "name": "stdout",
     "output_type": "stream",
     "text": [
      "Test Accuracy: 0.9791\n"
     ]
    },
    {
     "name": "stderr",
     "output_type": "stream",
     "text": [
      "EPOCH 3: Loss = 0.0174 at train step = 13281: 100%|\u001b[31m█\u001b[0m| 13282/13282 [2:07:33<00:00\u001b[0m"
     ]
    },
    {
     "name": "stdout",
     "output_type": "stream",
     "text": [
      "Epoch [3/10], Loss: 0.0739\n"
     ]
    },
    {
     "name": "stderr",
     "output_type": "stream",
     "text": [
      "\n"
     ]
    },
    {
     "name": "stdout",
     "output_type": "stream",
     "text": [
      "Training Accuracy: 0.9846\n"
     ]
    },
    {
     "name": "stderr",
     "output_type": "stream",
     "text": []
    },
    {
     "name": "stdout",
     "output_type": "stream",
     "text": [
      "Test Accuracy: 0.9806\n"
     ]
    },
    {
     "name": "stderr",
     "output_type": "stream",
     "text": [
      "EPOCH 4: Loss = 0.0027 at train step = 13281: 100%|\u001b[31m█\u001b[0m| 13282/13282 [2:07:30<00:00\u001b[0m"
     ]
    },
    {
     "name": "stdout",
     "output_type": "stream",
     "text": [
      "Epoch [4/10], Loss: 0.0378\n"
     ]
    },
    {
     "name": "stderr",
     "output_type": "stream",
     "text": [
      "\n"
     ]
    },
    {
     "name": "stdout",
     "output_type": "stream",
     "text": [
      "Training Accuracy: 0.9921\n"
     ]
    },
    {
     "name": "stderr",
     "output_type": "stream",
     "text": []
    },
    {
     "name": "stdout",
     "output_type": "stream",
     "text": [
      "Test Accuracy: 0.9876\n"
     ]
    },
    {
     "name": "stderr",
     "output_type": "stream",
     "text": [
      "EPOCH 5: Loss = 0.1033 at train step = 13281: 100%|\u001b[31m█\u001b[0m| 13282/13282 [2:07:29<00:00\u001b[0m"
     ]
    },
    {
     "name": "stdout",
     "output_type": "stream",
     "text": [
      "Epoch [5/10], Loss: 0.0318\n"
     ]
    },
    {
     "name": "stderr",
     "output_type": "stream",
     "text": [
      "\n"
     ]
    },
    {
     "name": "stdout",
     "output_type": "stream",
     "text": [
      "Training Accuracy: 0.9934\n"
     ]
    },
    {
     "name": "stderr",
     "output_type": "stream",
     "text": []
    },
    {
     "name": "stdout",
     "output_type": "stream",
     "text": [
      "Test Accuracy: 0.9886\n"
     ]
    },
    {
     "name": "stderr",
     "output_type": "stream",
     "text": [
      "EPOCH 6: Loss = 0.0050 at train step = 13281: 100%|\u001b[31m█\u001b[0m| 13282/13282 [2:07:29<00:00\u001b[0m"
     ]
    },
    {
     "name": "stdout",
     "output_type": "stream",
     "text": [
      "Epoch [6/10], Loss: 0.0284\n"
     ]
    },
    {
     "name": "stderr",
     "output_type": "stream",
     "text": [
      "\n"
     ]
    },
    {
     "name": "stdout",
     "output_type": "stream",
     "text": [
      "Training Accuracy: 0.9947\n"
     ]
    },
    {
     "name": "stderr",
     "output_type": "stream",
     "text": []
    },
    {
     "name": "stdout",
     "output_type": "stream",
     "text": [
      "Test Accuracy: 0.9902\n"
     ]
    },
    {
     "name": "stderr",
     "output_type": "stream",
     "text": [
      "EPOCH 7: Loss = 0.0121 at train step = 13281: 100%|\u001b[31m█\u001b[0m| 13282/13282 [2:07:29<00:00\u001b[0m"
     ]
    },
    {
     "name": "stdout",
     "output_type": "stream",
     "text": [
      "Epoch [7/10], Loss: 0.0141\n"
     ]
    },
    {
     "name": "stderr",
     "output_type": "stream",
     "text": [
      "\n"
     ]
    },
    {
     "name": "stdout",
     "output_type": "stream",
     "text": [
      "Training Accuracy: 0.9982\n"
     ]
    },
    {
     "name": "stderr",
     "output_type": "stream",
     "text": []
    },
    {
     "name": "stdout",
     "output_type": "stream",
     "text": [
      "Test Accuracy: 0.9938\n"
     ]
    },
    {
     "name": "stderr",
     "output_type": "stream",
     "text": [
      "EPOCH 8: Loss = 0.0005 at train step = 13281: 100%|\u001b[31m█\u001b[0m| 13282/13282 [2:07:34<00:00\u001b[0m"
     ]
    },
    {
     "name": "stdout",
     "output_type": "stream",
     "text": [
      "Epoch [8/10], Loss: 0.0111\n"
     ]
    },
    {
     "name": "stderr",
     "output_type": "stream",
     "text": [
      "\n"
     ]
    },
    {
     "name": "stdout",
     "output_type": "stream",
     "text": [
      "Training Accuracy: 0.9984\n"
     ]
    },
    {
     "name": "stderr",
     "output_type": "stream",
     "text": []
    },
    {
     "name": "stdout",
     "output_type": "stream",
     "text": [
      "Test Accuracy: 0.9939\n"
     ]
    },
    {
     "name": "stderr",
     "output_type": "stream",
     "text": [
      "EPOCH 9: Loss = 0.0045 at train step = 449:   3%|\u001b[31m \u001b[0m| 450/13282 [04:21<2:04:20,  1\u001b[0m\n"
     ]
    },
    {
     "ename": "KeyboardInterrupt",
     "evalue": "",
     "output_type": "error",
     "traceback": [
      "\u001b[0;31m---------------------------------------------------------------------------\u001b[0m",
      "\u001b[0;31mKeyboardInterrupt\u001b[0m                         Traceback (most recent call last)",
      "Cell \u001b[0;32mIn[4], line 55\u001b[0m\n\u001b[1;32m     53\u001b[0m     \u001b[38;5;28mprint\u001b[39m(\u001b[38;5;124m'\u001b[39m\u001b[38;5;124mLoading model from checkpoint...\u001b[39m\u001b[38;5;124m'\u001b[39m)\n\u001b[1;32m     54\u001b[0m     model\u001b[38;5;241m.\u001b[39mload_state_dict(torch\u001b[38;5;241m.\u001b[39mload(\u001b[38;5;124m'\u001b[39m\u001b[38;5;124mtransformer_model_epoch15_testacc0.9874.pth\u001b[39m\u001b[38;5;124m'\u001b[39m))\n\u001b[0;32m---> 55\u001b[0m train_model(model, train_loader, epochs\u001b[38;5;241m=\u001b[39m\u001b[38;5;241m10\u001b[39m, lr\u001b[38;5;241m=\u001b[39m\u001b[38;5;241m0.0001\u001b[39m, device\u001b[38;5;241m=\u001b[39m\u001b[38;5;124m'\u001b[39m\u001b[38;5;124mcuda\u001b[39m\u001b[38;5;124m'\u001b[39m)\n",
      "Cell \u001b[0;32mIn[4], line 25\u001b[0m, in \u001b[0;36mtrain_model\u001b[0;34m(model, train_loader, epochs, lr, device)\u001b[0m\n\u001b[1;32m     22\u001b[0m     loss\u001b[38;5;241m.\u001b[39mbackward()\n\u001b[1;32m     23\u001b[0m     optimizer\u001b[38;5;241m.\u001b[39mstep()\n\u001b[0;32m---> 25\u001b[0m     total_loss \u001b[38;5;241m+\u001b[39m\u001b[38;5;241m=\u001b[39m loss\u001b[38;5;241m.\u001b[39mitem()\n\u001b[1;32m     26\u001b[0m     pbar2\u001b[38;5;241m.\u001b[39mset_description(\u001b[38;5;124m'\u001b[39m\u001b[38;5;124mEPOCH \u001b[39m\u001b[38;5;132;01m{}\u001b[39;00m\u001b[38;5;124m: Loss = \u001b[39m\u001b[38;5;132;01m{:.4f}\u001b[39;00m\u001b[38;5;124m at train step = \u001b[39m\u001b[38;5;132;01m{}\u001b[39;00m\u001b[38;5;124m'\u001b[39m\u001b[38;5;241m.\u001b[39mformat(epoch\u001b[38;5;241m+\u001b[39m\u001b[38;5;241m1\u001b[39m,loss\u001b[38;5;241m.\u001b[39mitem(),pbar2\u001b[38;5;241m.\u001b[39mn))\n\u001b[1;32m     28\u001b[0m avg_loss \u001b[38;5;241m=\u001b[39m total_loss \u001b[38;5;241m/\u001b[39m \u001b[38;5;28mlen\u001b[39m(train_loader)\n",
      "\u001b[0;31mKeyboardInterrupt\u001b[0m: "
     ]
    }
   ],
   "source": [
    "def train_model(model, train_loader, epochs=20, lr=0.001, device='cuda'):\n",
    "    model.to(device)\n",
    "    optimizer = torch.optim.Adam(model.parameters(), lr=lr)\n",
    "    criterion = nn.CrossEntropyLoss().to(device)\n",
    "    scheduler = torch.optim.lr_scheduler.StepLR(optimizer, step_size=epochs//3, gamma=0.5)\n",
    "\n",
    "    for epoch in (pbar1 :=tqdm(range(epochs), position = 1,leave=False, colour='green', ncols=80)):\n",
    "        model.train()  # Set the model to training mode\n",
    "        total_loss = 0\n",
    "        for batch in (pbar2 :=tqdm(train_loader, position = 0,leave=True, colour='red', ncols=80)):\n",
    "            inputs, labels = batch\n",
    "            inputs, labels = inputs.to(device), labels.to(device)  # Move inputs and labels to the correct device\n",
    "\n",
    "            # Zero the parameter gradients\n",
    "            optimizer.zero_grad()\n",
    "\n",
    "            # Forward pass\n",
    "            outputs = model(inputs)\n",
    "            loss = criterion(outputs, labels)\n",
    "\n",
    "            # Backward and optimize\n",
    "            loss.backward()\n",
    "            optimizer.step()\n",
    "\n",
    "            total_loss += loss.item()\n",
    "            pbar2.set_description('EPOCH {}: Loss = {:.4f} at train step = {}'.format(epoch+1,loss.item(),pbar2.n))\n",
    "\n",
    "        avg_loss = total_loss / len(train_loader)\n",
    "        print(f'Epoch [{epoch+1}/{epochs}], Loss: {avg_loss:.4f}')\n",
    "        scheduler.step()\n",
    "        # for name, param in model.named_parameters():\n",
    "        #     if param.requires_grad:\n",
    "        #         print(name, param.grad.abs().mean())\n",
    "\n",
    "        # Compute the training accuracy\n",
    "        train_acc = accuracy(train_loader, model, device)\n",
    "        print(f'Training Accuracy: {train_acc:.4f}')\n",
    "        # Compute the validation accuracy\n",
    "        test_acc = accuracy(test_loader, model, device)\n",
    "        print(f'Test Accuracy: {test_acc:.4f}')\n",
    "\n",
    "        torch.save(model.state_dict(), f\"transformer_model_epoch{epoch}_testacc{test_acc:.4f}.pth\")\n",
    "\n",
    "# Note: When calling train_model, ensure you have a model, a DataLoader (train_dl),\n",
    "# and that your device is correctly configured (e.g., 'cuda' for GPU or 'cpu' for CPU).\n",
    "    \n",
    "# clear model\n",
    "del model\n",
    "# if model exists, load model\n",
    "model = TransformerSequenceClassifier(input_dim=6,d_model=512,nhead=8, num_classes=8,dim_feedforward=128,num_encoder_layers=5,dropout=0.1,max_seq_len=1000)\n",
    "\n",
    "if os.path.exists('transformer_model_epoch15_testacc0.9874.pth'):\n",
    "    print('Loading model from checkpoint...')\n",
    "    model.load_state_dict(torch.load('transformer_model_epoch15_testacc0.9874.pth'))\n",
    "train_model(model, train_loader, epochs=10, lr=0.0001, device='cuda')"
   ]
  },
  {
   "cell_type": "code",
   "execution_count": null,
   "metadata": {},
   "outputs": [],
   "source": [
    "# save model, name the model with the accuracy and dates\n",
    "torch.save(model.state_dict(), 'transformer_model_acc0.9994{}.pth'.format(time.strftime('%Y%m%d_%H%M%S')))"
   ]
  }
 ],
 "metadata": {
  "kernelspec": {
   "display_name": "Python 3 (ipykernel)",
   "language": "python",
   "name": "python3"
  },
  "language_info": {
   "codemirror_mode": {
    "name": "ipython",
    "version": 3
   },
   "file_extension": ".py",
   "mimetype": "text/x-python",
   "name": "python",
   "nbconvert_exporter": "python",
   "pygments_lexer": "ipython3",
   "version": "3.11.9"
  }
 },
 "nbformat": 4,
 "nbformat_minor": 4
}
